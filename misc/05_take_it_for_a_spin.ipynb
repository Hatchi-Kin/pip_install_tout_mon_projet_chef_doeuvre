{
 "cells": [
  {
   "cell_type": "code",
   "execution_count": 1,
   "metadata": {},
   "outputs": [],
   "source": [
    "import os\n",
    "import random\n",
    "import json\n",
    "import pickle\n",
    "\n",
    "from utils.music_utils import *\n",
    "import music_tag\n",
    "\n",
    "from pathlib import Path\n",
    "import numpy as np\n",
    "\n",
    "from pymilvus import connections, utility\n",
    "from pymilvus import Collection, DataType, FieldSchema, CollectionSchema"
   ]
  },
  {
   "cell_type": "code",
   "execution_count": 2,
   "metadata": {},
   "outputs": [
    {
     "name": "stdout",
     "output_type": "stream",
     "text": [
      "Number of valid files: 11637 | Number of invalid files: 0\n"
     ]
    }
   ],
   "source": [
    "DATASET = Path(\"MegaSet\")\n",
    "pkl_files = list(DATASET.rglob('*.pkl'))\n",
    "valid_files = [check_file_info(pkl_file) for pkl_file in pkl_files]\n",
    "print(f\"Number of valid files: {sum(valid_files)} | Number of invalid files: {len(valid_files) - sum(valid_files)}\")"
   ]
  },
  {
   "cell_type": "code",
   "execution_count": 3,
   "metadata": {},
   "outputs": [],
   "source": [
    "from dotenv import load_dotenv\n",
    "load_dotenv()\n",
    "\n",
    "URI = os.getenv(\"MILVUS_URI\")\n",
    "TOKEN = os.getenv(\"MILVUS_TOKEN\")"
   ]
  },
  {
   "cell_type": "code",
   "execution_count": 4,
   "metadata": {},
   "outputs": [
    {
     "name": "stdout",
     "output_type": "stream",
     "text": [
      "Connecting to DB: https://in03-efa63c0579a14a1.api.gcp-us-west1.zillizcloud.com\n",
      "['predictions_87', 'embeddings_512']\n"
     ]
    }
   ],
   "source": [
    "# connect to milvus\n",
    "connections.connect(\"default\",\n",
    "                    uri=URI,\n",
    "                    token=TOKEN)\n",
    "print(f\"Connecting to DB: {URI}\")\n",
    "print(utility.list_collections())"
   ]
  },
  {
   "cell_type": "code",
   "execution_count": 5,
   "metadata": {},
   "outputs": [],
   "source": [
    "collection_512 = Collection(\"embeddings_512\")"
   ]
  },
  {
   "cell_type": "code",
   "execution_count": 6,
   "metadata": {},
   "outputs": [
    {
     "name": "stdout",
     "output_type": "stream",
     "text": [
      "Number of hiphop songs: 3154\n",
      "Number of songs that are both hiphop and jazz:  156\n"
     ]
    }
   ],
   "source": [
    "entities = collection_512.query(\n",
    "    expr='array_contains(top_5_genres, \"hiphop\")',\n",
    "    output_fields=[\"count(*)\"]\n",
    ")\n",
    "\n",
    "print(f\"Number of hiphop songs: {entities[0]['count(*)']}\")\n",
    "\n",
    "entities = collection_512.query(\n",
    "    expr='array_contains_all(top_5_genres, [\"hiphop\", \"jazz\"])',\n",
    "    output_fields=[\"count(*)\"]\n",
    ")\n",
    "\n",
    "print(\"Number of songs that are both hiphop and jazz: \", entities[0]['count(*)'])"
   ]
  },
  {
   "cell_type": "code",
   "execution_count": 7,
   "metadata": {},
   "outputs": [],
   "source": [
    "custom_playlist = [\n",
    "    \"MegaSet/Jurassic 5/Jurassic 5 - Quality Control (2000)/001 How We Get Along.mp3\",\n",
    "    \"MegaSet/Jurassic 5/Jurassic 5 - Quality Control (2000)/010 Jurass Finish First.mp3\",\n",
    "    \"MegaSet/Jurassic 5/Jurassic 5 - Quality Control (2000)/013 The Game.mp3\",\n",
    "    \"MegaSet/Jurassic 5/Jurassic 5 - Quality Control (2000)/015 Swing Set.mp3\"\n",
    "]"
   ]
  },
  {
   "cell_type": "code",
   "execution_count": 8,
   "metadata": {},
   "outputs": [
    {
     "name": "stdout",
     "output_type": "stream",
     "text": [
      "Playlist artists: ['Jurassic 5']\n",
      "Playlist genres: ['funk', 'jazz', 'electronic', 'pop', 'rock', 'hiphop', 'rap', 'alternative', 'experimental']\n"
     ]
    }
   ],
   "source": [
    "playlist_embeddings = []\n",
    "playlist_artists = []\n",
    "playlist_genres = []\n",
    "\n",
    "for song in custom_playlist:\n",
    "    res = collection_512.query(expr=f'path == \"{song}\"', output_fields=[\"*\"])\n",
    "\n",
    "    playlist_embeddings.append(res[0][\"embedding\"])\n",
    "    if res[0][\"artist\"] not in playlist_artists:\n",
    "        playlist_artists.append(res[0][\"artist\"])\n",
    "\n",
    "    for g in res[0][\"top_5_genres\"]:\n",
    "        if g not in playlist_genres:\n",
    "            playlist_genres.append(g)\n",
    "\n",
    "print(f\"Playlist artists: {playlist_artists}\")\n",
    "print(f\"Playlist genres: {playlist_genres}\")"
   ]
  },
  {
   "cell_type": "code",
   "execution_count": 9,
   "metadata": {},
   "outputs": [
    {
     "name": "stdout",
     "output_type": "stream",
     "text": [
      "Playlist embedding shape: (512,)\n"
     ]
    }
   ],
   "source": [
    "playlist_embedding = np.mean(playlist_embeddings, axis=0)\n",
    "print(f\"Playlist embedding shape: {playlist_embedding.shape}\")"
   ]
  },
  {
   "cell_type": "code",
   "execution_count": 10,
   "metadata": {},
   "outputs": [
    {
     "name": "stdout",
     "output_type": "stream",
     "text": [
      "Title                          | Artist                                   | Top 5 Genres\n",
      "---------------------------------------------------------------------------\n",
      "Jurass Finish First            | Jurassic 5                               | hiphop, rap, electronic, alternative, rock\n",
      "Un scratch, un beat, un rap    | Disiz La Peste                           | hiphop, rap, electronic, pop, reggae\n",
      "Africanize Dem                 | Patrice                                  | hiphop, electronic, rock, pop, alternative\n",
      "Contact                        | Jurassic 5                               | electronic, hiphop, experimental, alternative, rap\n",
      "Quality Intro                  | Jurassic 5                               | electronic, hiphop, experimental, alternative, reggae\n",
      "The Game                       | Jurassic 5                               | hiphop, rap, pop, electronic, rock\n",
      "Papa ?                         | Hocus Pocus                              | hiphop, rap, electronic, jazz, ambient\n",
      "L’Empire du côté obscur        | IAM                                      | hiphop, rap, electronic, soundtrack, experimental\n",
      "Quality Control                | Jurassic 5                               | hiphop, rap, electronic, soul, 90s\n",
      "Manque de Q                    | M                                        | reggae, rock, pop, alternative, electronic\n",
      "Right Thing (Z-Trip 'Set the   | DJ Shadow                                | electronic, experimental, alternative, hiphop, pop\n",
      "Why Me                         | Kinny & Horne                            | hiphop, electronic, reggae, pop, rap\n",
      "Outro / Radio Sucks / The Min  | Limp Bizkit feat. Matt Pinfield / Limp   | hiphop, electronic, rap, alternative, experimental\n",
      "L'associé du diable            | Disiz La Peste                           | hiphop, rap, electronic, triphop, ambient\n",
      "Bar One                        | Dr. Dre feat. Traci Nelson, Ms. Roq & E  | hiphop, rap, reggae, electronic, experimental\n",
      "100 grammes de peur            | Hocus Pocus                              | electronic, pop, hiphop, jazz, soundtrack\n",
      "Le poisson rouge               | Disiz La Peste                           | hiphop, rap, electronic, experimental, reggae\n",
      "Équilibre                      | Hocus Pocus feat. Oxmo Puccino           | hiphop, rap, electronic, pop, rock\n",
      "L.A.U.S.D                      | Jurassic 5                               | hiphop, rap, electronic, funk, triphop\n",
      "Petit Frère                    | IAM                                      | hiphop, rap, electronic, experimental, soul\n"
     ]
    }
   ],
   "source": [
    "bigresult = collection_512.search(\n",
    "    data=[playlist_embedding],\n",
    "    anns_field=\"embedding\",\n",
    "    param={\"nprobe\": 16},\n",
    "    limit=200,\n",
    "    offset=1,\n",
    "    output_fields=[\"*\"],\n",
    ")\n",
    "\n",
    "print(f'{\"Title\":<30} | {\"Artist\":<40} | {\"Top 5 Genres\"}')\n",
    "print('-' * 75)\n",
    "\n",
    "already_proposed_artits = []\n",
    "count = 0\n",
    "for result in bigresult[0]:\n",
    "    # if result.artist in already_proposed_artits or result.artist in playlist_artists:\n",
    "    #     continue\n",
    "    if count >= 20:\n",
    "        break\n",
    "    already_proposed_artits.append(result.artist)\n",
    "    count += 1\n",
    "    print(f\"{result.title[:29]:<30} | {result.artist[:39]:<40} | {', '.join(result.top_5_genres)}\")"
   ]
  },
  {
   "cell_type": "code",
   "execution_count": 11,
   "metadata": {},
   "outputs": [],
   "source": [
    "########## 87\n",
    "\n",
    "with open(\"utils/mtg_jamendo_genre.json\", \"r\") as json_file:\n",
    "    metadata = json.load(json_file)\n",
    "classes = metadata.get(\"classes\")\n",
    "\n",
    "collection_87 = Collection(\"predictions_87\")\n",
    "playlist_predictions = []\n",
    "playlist_artists = []\n",
    "\n",
    "for song in custom_playlist:\n",
    "    res = collection_87.query(expr=f'path == \"{song}\"', output_fields=[\"artist\", \"predictions\"])\n",
    "    res = res[0]\n",
    "    \n",
    "    playlist_predictions.append(res[\"predictions\"])\n",
    "    if res[\"artist\"] not in playlist_artists:\n",
    "        playlist_artists.append(res[\"artist\"])\n"
   ]
  },
  {
   "cell_type": "code",
   "execution_count": 12,
   "metadata": {},
   "outputs": [
    {
     "name": "stdout",
     "output_type": "stream",
     "text": [
      "Playlist artists: ['Jurassic 5']\n",
      "Playlist predictions: [[0.005764223, 0.008256173, 0.003484765, 0.0071132914, 0.017980972, 0.10436504, 0.0041940454, 0.049062453, 0.0071485317, 0.024979746, 0.0033068436, 0.008594958, 0.008769145, 0.003075942, 0.017869323, 0.019153833, 0.0015091813, 0.008703485, 0.0026474113, 0.0055926056, 0.0024007526, 0.011378368, 0.027157258, 0.0037797315, 0.0023713452, 0.003309419, 0.020739987, 0.010020179, 0.007974188, 0.014263937, 0.0043703285, 0.029194899, 0.0021464103, 0.15997848, 0.00331784, 0.013857856, 0.0069447127, 0.0012377474, 0.11418001, 0.015843304, 0.22676721, 0.045684732, 0.02174515, 0.0064080255, 0.003158312, 0.005713116, 0.041459814, 0.013160333, 0.0031132263, 0.019662824, 0.035186738, 0.012610955, 0.041507933, 0.01720439, 0.21498959, 0.02862218, 0.013430646, 0.021862675, 0.0013075781, 0.00937936, 0.0038112346, 0.0072621317, 0.0024245852, 0.0076786326, 0.12848137, 0.013504643, 0.021977186, 0.002297609, 0.008118017, 0.010787067, 0.011319664, 0.021217901, 0.073389694, 0.04348739, 0.11930262, 0.0064620306, 0.005822853, 0.0293356, 0.06019448, 0.023419863, 0.0040254216, 0.009147, 0.012662676, 0.0042147683, 0.014661923, 0.02666998, 0.012072137], [0.002407805, 0.0010875164, 0.001228829, 0.045208137, 0.001565764, 0.057890765, 0.0017633326, 0.01856618, 0.0048227655, 0.006764726, 0.00070979854, 0.0011485575, 0.01141597, 0.0011901553, 0.0020261868, 0.00795671, 0.00064323767, 0.012264404, 0.0007109627, 0.0041246284, 0.000984674, 0.0033777878, 0.010838095, 0.0019728653, 0.0012916421, 0.0007596462, 0.0023418232, 0.0069880844, 0.0051110378, 0.009743278, 0.002655797, 0.01422445, 0.0008398507, 0.13735773, 0.0012295248, 0.0061194785, 0.0019171473, 0.0006995875, 0.046580706, 0.009940897, 0.043103494, 0.004635976, 0.0079017915, 0.0021787777, 0.001779779, 0.0016137367, 0.6553805, 0.006088485, 0.0014719989, 0.0019570694, 0.016617365, 0.006646419, 0.013494043, 0.0061120214, 0.039674275, 0.0018752707, 0.004839286, 0.006429426, 0.00037884212, 0.0062305694, 0.00097150623, 0.0019167882, 0.001696914, 0.005927453, 0.05235875, 0.007473848, 0.009249214, 0.00161777, 0.0020993217, 0.0032780794, 0.008486606, 0.30593318, 0.0266691, 0.019938815, 0.05313879, 0.002373183, 0.0038110658, 0.026231015, 0.042516075, 0.007362093, 0.0017419992, 0.0018206807, 0.0039658546, 0.0011600676, 0.037246373, 0.013160637, 0.0019849015], [0.0028924644, 0.0020199553, 0.002501403, 0.018313838, 0.001895938, 0.07161642, 0.0029675004, 0.0217369, 0.004106918, 0.0073530823, 0.0010589695, 0.001248111, 0.009775761, 0.0017542043, 0.0028948723, 0.01050651, 0.0010631315, 0.006929581, 0.0016278549, 0.0050870525, 0.0010907312, 0.0056231944, 0.017321449, 0.0015322069, 0.0014113296, 0.0014421402, 0.0045460495, 0.007042156, 0.00472842, 0.0072964896, 0.0035080423, 0.012812489, 0.0013149362, 0.13203238, 0.001859813, 0.011354824, 0.0031359084, 0.0013761123, 0.04627671, 0.014577326, 0.036103044, 0.005415366, 0.01066715, 0.0027789217, 0.0036966535, 0.0037900326, 0.58995503, 0.0059867315, 0.001821865, 0.0014538325, 0.019485531, 0.008184833, 0.014563645, 0.006815388, 0.009868656, 0.000885434, 0.006875824, 0.008130747, 0.0006353637, 0.0074154628, 0.0013934142, 0.0027463736, 0.0025630153, 0.0058673313, 0.13369758, 0.012464504, 0.01709279, 0.0017905796, 0.0047800397, 0.0040133484, 0.007996526, 0.36505875, 0.042372473, 0.03007294, 0.076144755, 0.0036343436, 0.005752776, 0.031026872, 0.027807664, 0.0038389552, 0.0023712905, 0.002132826, 0.006112135, 0.0023544075, 0.028917367, 0.017581953, 0.002677903], [0.0152255865, 0.0056794956, 0.002121158, 0.029025324, 0.013900476, 0.1112086, 0.0041922415, 0.048203785, 0.011736729, 0.04382589, 0.004370636, 0.0068613035, 0.022140143, 0.0021249712, 0.0039206846, 0.027632842, 0.00085318444, 0.00917707, 0.0014896187, 0.0031826824, 0.0015785636, 0.026346765, 0.013987203, 0.0025198474, 0.0020718186, 0.001653997, 0.0043823537, 0.019341284, 0.02126857, 0.018399091, 0.002645371, 0.041836713, 0.0019504267, 0.2522968, 0.00272601, 0.008809724, 0.007917691, 0.00076946866, 0.09827322, 0.026383152, 0.076259375, 0.02675991, 0.013813485, 0.0028458077, 0.0030011334, 0.0027769164, 0.17502016, 0.01266793, 0.0037207066, 0.007019118, 0.028056758, 0.00895402, 0.0738593, 0.010549899, 0.13761391, 0.012044731, 0.026397686, 0.043358836, 0.00093143096, 0.0064967102, 0.002077268, 0.006313055, 0.0018920024, 0.00787636, 0.08486542, 0.011371636, 0.012658332, 0.003690356, 0.0073739826, 0.009645378, 0.014142591, 0.04813942, 0.03130072, 0.01938815, 0.07467648, 0.021056019, 0.0069566723, 0.03762584, 0.049056914, 0.03342209, 0.002706003, 0.0036599291, 0.008404023, 0.0021589666, 0.058147587, 0.05401966, 0.027628316]]\n"
     ]
    }
   ],
   "source": [
    "print(f\"Playlist artists: {playlist_artists}\")\n",
    "print(f\"Playlist predictions: {playlist_predictions}\")"
   ]
  },
  {
   "cell_type": "code",
   "execution_count": 13,
   "metadata": {},
   "outputs": [
    {
     "name": "stdout",
     "output_type": "stream",
     "text": [
      "hiphop: 0.36545389890670776\n",
      "rap: 0.18508730828762054\n",
      "electronic: 0.17041635513305664\n",
      "jazz: 0.10053659975528717\n",
      "pop: 0.09985078126192093\n"
     ]
    }
   ],
   "source": [
    "playlist_predictions = np.mean(playlist_predictions, axis=0)\n",
    "sorted_indices = playlist_predictions.argsort()\n",
    "top_5_indices = sorted_indices[-5:][::-1]\n",
    "for i in top_5_indices:\n",
    "    print(f\"{classes[i]}: {playlist_predictions[i]}\")"
   ]
  },
  {
   "cell_type": "code",
   "execution_count": 14,
   "metadata": {},
   "outputs": [
    {
     "name": "stdout",
     "output_type": "stream",
     "text": [
      "Title                          | Artist                         | Top 5 Genres\n",
      "---------------------------------------------------------------------------\n",
      "Un scratch, un beat, un rap    | Disiz La Peste                           | hiphop, rap, electronic, pop, reggae\n",
      "Africanize Dem                 | Patrice                                  | hiphop, electronic, rock, pop, alternative\n",
      "Papa ?                         | Hocus Pocus                              | hiphop, rap, electronic, jazz, ambient\n",
      "L’Empire du côté obscur        | IAM                                      | hiphop, rap, electronic, soundtrack, experimental\n",
      "Manque de Q                    | M                                        | reggae, rock, pop, alternative, electronic\n",
      "Right Thing (Z-Trip 'Set the   | DJ Shadow                                | electronic, experimental, alternative, hiphop, pop\n",
      "Why Me                         | Kinny & Horne                            | hiphop, electronic, reggae, pop, rap\n",
      "Outro / Radio Sucks / The Min  | Limp Bizkit feat. Matt Pinfield / Limp   | hiphop, electronic, rap, alternative, experimental\n",
      "Bar One                        | Dr. Dre feat. Traci Nelson, Ms. Roq & E  | hiphop, rap, reggae, electronic, experimental\n",
      "Équilibre                      | Hocus Pocus feat. Oxmo Puccino           | hiphop, rap, electronic, pop, rock\n",
      "Petit Chef                     | Les Blaireaux                            | rock, alternative, pop, reggae, indie\n",
      "Dispear                        | Nas & Damian Marley                      | reggae, hiphop, electronic, rap, pop\n",
      "Better That Way                | Tumi & Chinese Man feat. Taiwan          | hiphop, reggae, electronic, rap, dub\n",
      "DMC 2003 Set                   | C2C                                      | electronic, experimental, hiphop, alternative, rock\n",
      "Intro                          | Foreign Beggars                          | hiphop, rap, electronic, ambient, soundtrack\n",
      "Portrait                       | Hocus Pocus feat. Elodie Rama            | hiphop, rap, electronic, jazz, pop\n",
      "Concrete Jungle (feat. Black   | Martin Jondo                             | hiphop, reggae, electronic, rap, pop\n",
      "Skypager                       | A Tribe Called Quest                     | hiphop, rap, electronic, experimental, 90s\n",
      "Wat kyk jy?                    | Die Antwoord                             | electronic, hiphop, techno, dance, rap\n",
      "Positively Inclined            | Wax Tailor Ft. Marina Quaisse & A.S.M    | hiphop, electronic, rap, pop, funk\n"
     ]
    }
   ],
   "source": [
    "# search for songs that are similar to the custom playlist and have at least one of the top 5 genres\n",
    "results = collection_512.search(\n",
    "    data=[playlist_embedding],\n",
    "    anns_field=\"embedding\",\n",
    "    param={\"nprobe\": 16},\n",
    "    limit=120,\n",
    "    output_fields=[\"*\"],\n",
    "    filter=f'array_contains_any(top_5_genres, [\"hiphop\", \"reggae\", \"rock\", \"funk\"])'\n",
    ")\n",
    "\n",
    "print(f'{\"Title\":<30} | {\"Artist\":<30} | {\"Top 5 Genres\"}')\n",
    "print('-' * 75)\n",
    "\n",
    "already_proposed_artits = []\n",
    "count = 0\n",
    "\n",
    "# loop over the results and print only the ones that have artist not found in already proposed AND not found in the custom playlist\n",
    "for result in results[0]:\n",
    "    if result.artist in already_proposed_artits or result.artist in playlist_artists:\n",
    "        continue\n",
    "    if count >= 20:\n",
    "        break\n",
    "    already_proposed_artits.append(result.artist)\n",
    "    count += 1\n",
    "    print(f\"{result.title[:29]:<30} | {result.artist[:39]:<40} | {', '.join(result.top_5_genres)}\")\n",
    "    "
   ]
  },
  {
   "cell_type": "code",
   "execution_count": 15,
   "metadata": {},
   "outputs": [],
   "source": [
    "########################################"
   ]
  },
  {
   "cell_type": "code",
   "execution_count": 16,
   "metadata": {},
   "outputs": [
    {
     "data": {
      "text/plain": [
       "dict_keys(['filename', 'filepath', 'folder', 'filesize', 'title', 'artist', 'album', 'year', 'tracknumber', 'genre', 'predictions_87', 'embedding_512', 'top_5_genres'])"
      ]
     },
     "execution_count": 16,
     "metadata": {},
     "output_type": "execute_result"
    }
   ],
   "source": [
    "pkl_path = \"MegaSet/Amy Whinehouse/Amy Winehouse - 2006 - Back To Black/01 Rehab.pkl\"\n",
    "with open(pkl_path, \"rb\") as pkl_file:\n",
    "    data = pickle.load(pkl_file)\n",
    "data.keys()\n",
    "# data[\"embedding_512\"].shape\n",
    "# data[\"folder\"]"
   ]
  },
  {
   "cell_type": "code",
   "execution_count": 17,
   "metadata": {},
   "outputs": [
    {
     "data": {
      "text/plain": [
       "'Amy Winehouse - 2006 - Back To Black'"
      ]
     },
     "execution_count": 17,
     "metadata": {},
     "output_type": "execute_result"
    }
   ],
   "source": [
    "folder = data[\"folder\"].split(\"/\")[-1]\n",
    "folder"
   ]
  },
  {
   "cell_type": "code",
   "execution_count": 18,
   "metadata": {},
   "outputs": [
    {
     "name": "stdout",
     "output_type": "stream",
     "text": [
      "Title                          | Artist                         | Top 5 Genres\n",
      "---------------------------------------------------------------------------\n",
      "Rehab                          | Amy Winehouse                            | pop, rock, electronic, alternative, indie\n",
      "Gypsy                          | Nneka                                    | hiphop, electronic, rap, pop, triphop\n",
      "Yellow Submarine               | The Beatles                              | alternative, pop, rock, blues, indie\n",
      "Sweet Calling                  | Alice Russell                            | electronic, pop, funk, alternative, lounge\n",
      "Radio Ga Ga                    | Queen                                    | electronic, ambient, pop, easylistening, soundtrack\n",
      "Bragg Jack                     | Mano Negra                               | rock, pop, alternative, indie, poprock\n",
      "Daniella                       | The John Butler Trio                     | rock, alternative, pop, indie, electronic\n",
      "Elegy (London, UK)             | Youngblood Brass Band                    | hiphop, electronic, jazz, alternative, pop\n",
      "Let It Bleed                   | The Rolling Stones                       | pop, rock, alternative, blues, indie\n",
      "Dispear                        | Nas & Damian Marley                      | reggae, hiphop, electronic, rap, pop\n",
      "Sweet Calling                  | Quantic feat. Alice Russell              | electronic, pop, funk, alternative, lounge\n",
      "L'Auto-stoppeur                | Les Blaireaux                            | rock, alternative, pop, punkrock, indie\n",
      "Peaches                        | Dub Pistols feat. Rodney P & Terry Hall  | hiphop, electronic, rock, pop, rap\n",
      "Piste 1                        | Les Barbeaux truités -No friture-        | reggae, rock, pop, world, alternative\n",
      "Try (Just a Little Bit Harder  | Kozmic Blues Band                        | rock, alternative, pop, funk, indie\n",
      "Go On                          | Dela feat. Reach                         | hiphop, rap, electronic, pop, rock\n",
      "The Only One                   | The Black Keys                           | pop, alternative, rock, indie, electronic\n",
      "The Way You Found Me           | Ben Harper                               | blues, jazz, pop, rock, alternative\n",
      "Mytho                          | Les Ogres de Barback & Les Hurlements d  | pop, folk, country, rock, jazz\n",
      "Banco                          | Têtes Raides                             | rock, alternative, pop, indie, blues\n"
     ]
    }
   ],
   "source": [
    "# propose une playlist de 20 chansons qui sont similaires et qui ne viennenet pas du meme dossier\n",
    "folder = data[\"folder\"].split(\"/\")[-1]\n",
    "\n",
    "results = collection_512.search(\n",
    "    data=[data['embedding_512']],\n",
    "    anns_field=\"embedding\",\n",
    "    param={\"nprobe\": 16},\n",
    "    limit=120,\n",
    "    output_fields=[\"*\"],\n",
    "    expr=f\"folder != '{folder}'\"\n",
    ")\n",
    "\n",
    "print(f'{\"Title\":<30} | {\"Artist\":<30} | {\"Top 5 Genres\"}')\n",
    "print('-' * 75)\n",
    "\n",
    "already_proposed_artits = []\n",
    "count = 0\n",
    "\n",
    "# loop over the results and print only the ones that have artist not found in already proposed AND not found in the custom playlist\n",
    "for result in results[0]:\n",
    "    if result.artist in already_proposed_artits or result.artist in playlist_artists:\n",
    "        continue\n",
    "    if count >= 20:\n",
    "        break\n",
    "    already_proposed_artits.append(result.artist)\n",
    "    count += 1\n",
    "    print(f\"{result.title[:29]:<30} | {result.artist[:39]:<40} | {', '.join(result.top_5_genres)}\")\n"
   ]
  },
  {
   "cell_type": "code",
   "execution_count": 19,
   "metadata": {},
   "outputs": [
    {
     "name": "stdout",
     "output_type": "stream",
     "text": [
      "Title                          | Artist                         | Top 5 Genres\n",
      "---------------------------------------------------------------------------\n",
      "Gypsy                          | Nneka                                    | hiphop, electronic, rap, pop, triphop\n",
      "Yellow Submarine               | The Beatles                              | alternative, pop, rock, blues, indie\n",
      "Sweet Calling                  | Alice Russell                            | electronic, pop, funk, alternative, lounge\n",
      "Radio Ga Ga                    | Queen                                    | electronic, ambient, pop, easylistening, soundtrack\n",
      "Bragg Jack                     | Mano Negra                               | rock, pop, alternative, indie, poprock\n",
      "Daniella                       | The John Butler Trio                     | rock, alternative, pop, indie, electronic\n",
      "Elegy (London, UK)             | Youngblood Brass Band                    | hiphop, electronic, jazz, alternative, pop\n",
      "Let It Bleed                   | The Rolling Stones                       | pop, rock, alternative, blues, indie\n",
      "Dispear                        | Nas & Damian Marley                      | reggae, hiphop, electronic, rap, pop\n",
      "Sweet Calling                  | Quantic feat. Alice Russell              | electronic, pop, funk, alternative, lounge\n",
      "L'Auto-stoppeur                | Les Blaireaux                            | rock, alternative, pop, punkrock, indie\n",
      "Peaches                        | Dub Pistols feat. Rodney P & Terry Hall  | hiphop, electronic, rock, pop, rap\n",
      "Piste 1                        | Les Barbeaux truités -No friture-        | reggae, rock, pop, world, alternative\n",
      "Try (Just a Little Bit Harder  | Kozmic Blues Band                        | rock, alternative, pop, funk, indie\n",
      "Go On                          | Dela feat. Reach                         | hiphop, rap, electronic, pop, rock\n",
      "The Only One                   | The Black Keys                           | pop, alternative, rock, indie, electronic\n",
      "The Way You Found Me           | Ben Harper                               | blues, jazz, pop, rock, alternative\n",
      "Mytho                          | Les Ogres de Barback & Les Hurlements d  | pop, folk, country, rock, jazz\n",
      "Banco                          | Têtes Raides                             | rock, alternative, pop, indie, blues\n",
      "Each One Teach One             | Groundation                              | reggae, dub, electronic, experimental, rock\n"
     ]
    }
   ],
   "source": [
    "# propose une playlist de 20 chansons qui sont similaires et qui ne viennenet pas du meme artiste\n",
    "\n",
    "results = collection_512.search(\n",
    "    data=[data['embedding_512']],\n",
    "    anns_field=\"embedding\",\n",
    "    param={\"nprobe\": 16},\n",
    "    limit=120,\n",
    "    output_fields=[\"*\"],\n",
    "    expr=f\"artist != '{data['artist']}'\"\n",
    ")\n",
    "\n",
    "print(f'{\"Title\":<30} | {\"Artist\":<30} | {\"Top 5 Genres\"}')\n",
    "print('-' * 75)\n",
    "\n",
    "already_proposed_artits = []\n",
    "count = 0\n",
    "\n",
    "# loop over the results and print only the ones that have artist not found in already proposed AND not found in the custom playlist\n",
    "for result in results[0]:\n",
    "    if result.artist in already_proposed_artits or result.artist in playlist_artists:\n",
    "        continue\n",
    "    if count >= 20:\n",
    "        break\n",
    "    already_proposed_artits.append(result.artist)\n",
    "    count += 1\n",
    "    print(f\"{result.title[:29]:<30} | {result.artist[:39]:<40} | {', '.join(result.top_5_genres)}\")\n"
   ]
  }
 ],
 "metadata": {
  "kernelspec": {
   "display_name": ".venv",
   "language": "python",
   "name": "python3"
  },
  "language_info": {
   "codemirror_mode": {
    "name": "ipython",
    "version": 3
   },
   "file_extension": ".py",
   "mimetype": "text/x-python",
   "name": "python",
   "nbconvert_exporter": "python",
   "pygments_lexer": "ipython3",
   "version": "3.10.12"
  }
 },
 "nbformat": 4,
 "nbformat_minor": 2
}
