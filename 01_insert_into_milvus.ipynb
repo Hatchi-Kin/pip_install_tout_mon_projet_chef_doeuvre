{
 "cells": [
  {
   "cell_type": "code",
   "execution_count": 20,
   "metadata": {},
   "outputs": [],
   "source": [
    "import pickle\n",
    "import json\n",
    "import os\n",
    "import logging\n",
    "from dotenv import load_dotenv\n",
    "load_dotenv()\n",
    "\n",
    "import numpy as np\n",
    "from pathlib import Path\n",
    "from multiprocessing import Pool\n",
    "\n",
    "from pymilvus import Collection, DataType, FieldSchema, CollectionSchema, MilvusClient, utility, connections"
   ]
  },
  {
   "cell_type": "code",
   "execution_count": 21,
   "metadata": {},
   "outputs": [],
   "source": [
    "URI = os.getenv(\"MILVUS_URI\")\n",
    "TOKEN = os.getenv(\"MILVUS_TOKEN\")"
   ]
  },
  {
   "cell_type": "code",
   "execution_count": 22,
   "metadata": {},
   "outputs": [],
   "source": [
    "milvus_client = MilvusClient(\n",
    "    uri=URI, \n",
    "    token=TOKEN)"
   ]
  },
  {
   "cell_type": "code",
   "execution_count": null,
   "metadata": {},
   "outputs": [],
   "source": [
    "# Create schema\n",
    "schema = MilvusClient.create_schema(\n",
    "    auto_id=False,\n",
    "    enable_dynamic_field=True,\n",
    ")\n",
    "\n",
    "collection_name = \"predictions_87\"\n",
    "dimension = 87\n",
    "\n",
    "# Add fields to schema\n",
    "schema.add_field(field_name=\"filename\", datatype=DataType.INT64, is_primary=True)\n",
    "schema.add_field(field_name=\"vector\", datatype=DataType.FLOAT_VECTOR, dim=dimension)\n",
    "\n",
    "# Prepare index parameters\n",
    "index_params = milvus_client.prepare_index_params()\n",
    "\n",
    "# Add indexes\n",
    "index_params.add_index(\n",
    "    field_name=\"filename\",\n",
    "    index_type=\"STL_SORT\"\n",
    ")\n",
    "\n",
    "index_params.add_index(\n",
    "    field_name=\"vector\", \n",
    "    index_type=\"AUTOINDEX\",\n",
    "    metric_type=\"IP\"\n",
    ")\n",
    "\n",
    "# Create a collection\n",
    "milvus_client.create_collection(\n",
    "    collection_name=collection_name,\n",
    "    schema=schema,\n",
    "    index_params=index_params\n",
    ")"
   ]
  },
  {
   "cell_type": "code",
   "execution_count": null,
   "metadata": {},
   "outputs": [],
   "source": [
    "milvus_client.list_collections()"
   ]
  },
  {
   "cell_type": "code",
   "execution_count": 17,
   "metadata": {},
   "outputs": [],
   "source": [
    "# Set up logging\n",
    "logging.basicConfig(filename='app.log', filemode='w', format='%(name)s - %(levelname)s - %(message)s')\n",
    "\n",
    "def process_file(args):\n",
    "    i, path = args\n",
    "    try:\n",
    "        with open(path, \"rb\") as f:\n",
    "            data = pickle.load(f)\n",
    "            filename = data.get(\"filename\")\n",
    "            vector = data.get(\"embeddings_87\")\n",
    "\n",
    "\n",
    "        if isinstance(vector, np.ndarray):\n",
    "            return (i, filename, vector)\n",
    "    except Exception as e:\n",
    "        logging.error(f\"Error processing file {path}: {str(e)}\")\n",
    "        return None"
   ]
  },
  {
   "cell_type": "code",
   "execution_count": null,
   "metadata": {},
   "outputs": [],
   "source": [
    "DATASET = Path('MUSIC_DATASET')\n",
    "pkl_files = list(DATASET.glob('**/*.pkl'))"
   ]
  },
  {
   "cell_type": "code",
   "execution_count": null,
   "metadata": {},
   "outputs": [],
   "source": [
    "# Use a multiprocessing pool to process the files in parallel\n",
    "with Pool() as p:\n",
    "    results = p.map(process_file, enumerate(pkl_files))\n",
    "\n",
    "# Filter out None results\n",
    "results = [r for r in results if r is not None]\n",
    "\n",
    "# Batch size\n",
    "batch_size = 18\n",
    "\n",
    "fails = []\n",
    "\n",
    "# Insert the data into the collection\n",
    "for i in range(0, len(results), batch_size):\n",
    "    id_batch, vector_batch = zip(*[(r[1], r[2]) for r in results[i : i + batch_size]])\n",
    "    try:\n",
    "        milvus_client.insert(\n",
    "            collection_name=collection_name, \n",
    "            data=vector_batch, ids=id_batch)\n",
    "        \n",
    "        print(f\"Inserted {i + batch_size} records into collection {collection_name}.\")\n",
    "\n",
    "    except Exception as e:\n",
    "        fails.append((i + batch_size, id_batch, vector_batch))\n",
    "        print(f\"Error inserting batch {i + batch_size} into collection example_collection. Error: {str(e)}\")\n",
    "\n"
   ]
  }
 ],
 "metadata": {
  "kernelspec": {
   "display_name": ".venv",
   "language": "python",
   "name": "python3"
  },
  "language_info": {
   "codemirror_mode": {
    "name": "ipython",
    "version": 3
   },
   "file_extension": ".py",
   "mimetype": "text/x-python",
   "name": "python",
   "nbconvert_exporter": "python",
   "pygments_lexer": "ipython3",
   "version": "3.10.12"
  }
 },
 "nbformat": 4,
 "nbformat_minor": 2
}
